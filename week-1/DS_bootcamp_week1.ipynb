{
  "nbformat": 4,
  "nbformat_minor": 0,
  "metadata": {
    "colab": {
      "provenance": []
    },
    "kernelspec": {
      "name": "python3",
      "display_name": "Python 3"
    },
    "language_info": {
      "name": "python"
    }
  },
  "cells": [
    {
      "cell_type": "code",
      "execution_count": 1,
      "metadata": {
        "colab": {
          "base_uri": "https://localhost:8080/"
        },
        "id": "DAGXsD6a8ymB",
        "outputId": "ffb0f088-2ca4-4bed-9c5c-3f7a9d17275f"
      },
      "outputs": [
        {
          "output_type": "stream",
          "name": "stdout",
          "text": [
            "0\n",
            "1\n",
            "1\n",
            "2\n",
            "3\n",
            "5\n",
            "8\n",
            "13\n",
            "21\n",
            "34\n"
          ]
        }
      ],
      "source": [
        "# Display Fibonacci Series upto 10 terms\n",
        "\n",
        "fibonacci_numbers = []\n",
        "\n",
        "# Adding the first two fibonacci numbers to the list\n",
        "fibonacci_numbers.append(0)\n",
        "fibonacci_numbers.append(1)\n",
        "\n",
        "for i in range(2, 10):\n",
        "    fibonacci_numbers.append(fibonacci_numbers[i-1] + fibonacci_numbers[i-2])\n",
        "\n",
        "for number in fibonacci_numbers:\n",
        "    print(number)"
      ]
    },
    {
      "cell_type": "code",
      "source": [
        "# Display numbers at the odd indices of a list\n",
        "\n",
        "numbers_list = [1, 2, 3, 4, 5, 6, 7, 8, 9, 10, 11, 12, 13, 14, 15]\n",
        "print(\"List: \", numbers_list)\n",
        "\n",
        "print()\n",
        "print(\"Numbers at Odd Indices of the list: \")\n",
        "\n",
        "for i in range(len(numbers_list)):\n",
        "    if i % 2 != 0:\n",
        "        print(numbers_list[i])"
      ],
      "metadata": {
        "colab": {
          "base_uri": "https://localhost:8080/"
        },
        "id": "kmE1kN9485IQ",
        "outputId": "cd376457-c35f-40fd-ad9e-7b7772abf38a"
      },
      "execution_count": 2,
      "outputs": [
        {
          "output_type": "stream",
          "name": "stdout",
          "text": [
            "List:  [1, 2, 3, 4, 5, 6, 7, 8, 9, 10, 11, 12, 13, 14, 15]\n",
            "\n",
            "Numbers at Odd Indices of the list: \n",
            "2\n",
            "4\n",
            "6\n",
            "8\n",
            "10\n",
            "12\n",
            "14\n"
          ]
        }
      ]
    },
    {
      "cell_type": "code",
      "source": [
        "import re\n",
        "\n",
        "# Given text\n",
        "string = \"\"\"\n",
        "I have provided this text to provide tips on creating interesting paragraphs.\n",
        "\n",
        "First, start with a clear topic sentence that introduces the main idea.\n",
        "\n",
        "Then, support the topic sentence with specific details, examples, and evidence.\n",
        "\n",
        "Vary the sentence length and structure to keep the reader engaged.\n",
        "\n",
        "Finally, end with a strong concluding sentence that summarizes the main points.\n",
        "\n",
        "Remember, practice makes perfect!\n",
        "\"\"\"\n",
        "\n",
        "# Normalize text: convert to lowercase and extract words using regex\n",
        "word_list = re.findall(r'\\b\\w+\\b', string.lower())\n",
        "\n",
        "# Get unique words\n",
        "unique_words = set(word_list)\n",
        "\n",
        "# Print the number of different words\n",
        "print(\"Number of different words:\", len(unique_words))\n",
        "\n",
        "# Print unique words\n",
        "print(\"\\nUnique words:\", unique_words)"
      ],
      "metadata": {
        "colab": {
          "base_uri": "https://localhost:8080/"
        },
        "id": "9n2QUjyB89Zu",
        "outputId": "dfefc98e-d590-4abd-c6f6-b14b9a5d2fc9"
      },
      "execution_count": 3,
      "outputs": [
        {
          "output_type": "stream",
          "name": "stdout",
          "text": [
            "Number of different words: 47\n",
            "\n",
            "Unique words: {'interesting', 'main', 'engaged', 'idea', 'topic', 'practice', 'the', 'and', 'details', 'provided', 'with', 'examples', 'clear', 'evidence', 'a', 'remember', 'concluding', 'support', 'structure', 'points', 'this', 'provide', 'creating', 'start', 'sentence', 'end', 'perfect', 'makes', 'tips', 'specific', 'text', 'then', 'paragraphs', 'i', 'reader', 'summarizes', 'vary', 'strong', 'length', 'finally', 'that', 'introduces', 'to', 'first', 'keep', 'have', 'on'}\n"
          ]
        }
      ]
    },
    {
      "cell_type": "code",
      "source": [
        "def count_vowels(word):\n",
        "    vowels = set(\"aeiouAEIOU\")  # Using a set for faster lookup\n",
        "    return sum(1 for char in word if char in vowels)  # Count vowels in the word\n",
        "\n",
        "word = input(\"Enter a word: \")  # Takes user input\n",
        "print(f\"Number of vowels in '{word}' is: {count_vowels(word)}\")"
      ],
      "metadata": {
        "colab": {
          "base_uri": "https://localhost:8080/"
        },
        "id": "IZbv9ORC9CIr",
        "outputId": "d1e875b0-afdd-45a7-aed1-f2383cf18c6a"
      },
      "execution_count": 4,
      "outputs": [
        {
          "output_type": "stream",
          "name": "stdout",
          "text": [
            "Enter a word: cat\n",
            "Number of vowels in 'cat' is: 1\n"
          ]
        }
      ]
    },
    {
      "cell_type": "code",
      "source": [
        "animals = ['tiger', 'elephant', 'monkey', 'zebra', 'panther']\n",
        "\n",
        "# Iterate and print each animal in uppercase\n",
        "for animal in animals:\n",
        "    print(animal.upper())"
      ],
      "metadata": {
        "colab": {
          "base_uri": "https://localhost:8080/"
        },
        "id": "kA2njtCK9IRc",
        "outputId": "144019d2-acd4-470a-e421-090d45a0f206"
      },
      "execution_count": 5,
      "outputs": [
        {
          "output_type": "stream",
          "name": "stdout",
          "text": [
            "TIGER\n",
            "ELEPHANT\n",
            "MONKEY\n",
            "ZEBRA\n",
            "PANTHER\n"
          ]
        }
      ]
    },
    {
      "cell_type": "code",
      "source": [
        "def check_odd_even():\n",
        "    for num in range(1, 21):  # Loop from 1 to 20\n",
        "        if num % 2 == 0:\n",
        "            print(f\"{num} is Even\")\n",
        "        else:\n",
        "            print(f\"{num} is Odd\")\n",
        "\n",
        "# Call the function\n",
        "check_odd_even()"
      ],
      "metadata": {
        "colab": {
          "base_uri": "https://localhost:8080/"
        },
        "id": "dKtfpuRD9MhD",
        "outputId": "248cd9a5-6468-4617-ad4a-d0fa79bf00bc"
      },
      "execution_count": 6,
      "outputs": [
        {
          "output_type": "stream",
          "name": "stdout",
          "text": [
            "1 is Odd\n",
            "2 is Even\n",
            "3 is Odd\n",
            "4 is Even\n",
            "5 is Odd\n",
            "6 is Even\n",
            "7 is Odd\n",
            "8 is Even\n",
            "9 is Odd\n",
            "10 is Even\n",
            "11 is Odd\n",
            "12 is Even\n",
            "13 is Odd\n",
            "14 is Even\n",
            "15 is Odd\n",
            "16 is Even\n",
            "17 is Odd\n",
            "18 is Even\n",
            "19 is Odd\n",
            "20 is Even\n"
          ]
        }
      ]
    },
    {
      "cell_type": "code",
      "source": [
        "def sum_of_integers(a, b):\n",
        "    return a + b  # Returns the sum of two integers\n",
        "\n",
        "# Taking input from the user\n",
        "num1 = int(input(\"Enter the first integer: \"))\n",
        "num2 = int(input(\"Enter the second integer: \"))\n",
        "\n",
        "# Calling the function and printing the result\n",
        "print(f\"The sum of {num1} and {num2} is: {sum_of_integers(num1, num2)}\")"
      ],
      "metadata": {
        "colab": {
          "base_uri": "https://localhost:8080/"
        },
        "id": "oF-qt_br9Qcv",
        "outputId": "cecc46b2-6baa-414b-9aee-c04bc3d3e6ce"
      },
      "execution_count": 7,
      "outputs": [
        {
          "output_type": "stream",
          "name": "stdout",
          "text": [
            "Enter the first integer: 2\n",
            "Enter the second integer: 7\n",
            "The sum of 2 and 7 is: 9\n"
          ]
        }
      ]
    }
  ]
}